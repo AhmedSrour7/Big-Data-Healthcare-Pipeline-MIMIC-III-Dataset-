{
 "cells": [
  {
   "cell_type": "code",
   "execution_count": 36,
   "id": "70f90513",
   "metadata": {},
   "outputs": [],
   "source": [
    "import pandas as pd"
   ]
  },
  {
   "cell_type": "code",
   "execution_count": 37,
   "id": "a677c114",
   "metadata": {},
   "outputs": [],
   "source": [
    "df=pd.read_csv(r\"D:\\ITI Data engineering intensive camp\\Big data\\Project\\mimic-iii-clinical-database-demo-1.4\\ICUSTAYS.csv\")"
   ]
  },
  {
   "cell_type": "code",
   "execution_count": 38,
   "id": "698fa3ad",
   "metadata": {},
   "outputs": [
    {
     "data": {
      "text/html": [
       "<div>\n",
       "<style scoped>\n",
       "    .dataframe tbody tr th:only-of-type {\n",
       "        vertical-align: middle;\n",
       "    }\n",
       "\n",
       "    .dataframe tbody tr th {\n",
       "        vertical-align: top;\n",
       "    }\n",
       "\n",
       "    .dataframe thead th {\n",
       "        text-align: right;\n",
       "    }\n",
       "</style>\n",
       "<table border=\"1\" class=\"dataframe\">\n",
       "  <thead>\n",
       "    <tr style=\"text-align: right;\">\n",
       "      <th></th>\n",
       "      <th>row_id</th>\n",
       "      <th>subject_id</th>\n",
       "      <th>hadm_id</th>\n",
       "      <th>icustay_id</th>\n",
       "      <th>dbsource</th>\n",
       "      <th>first_careunit</th>\n",
       "      <th>last_careunit</th>\n",
       "      <th>first_wardid</th>\n",
       "      <th>last_wardid</th>\n",
       "      <th>intime</th>\n",
       "      <th>outtime</th>\n",
       "      <th>los</th>\n",
       "    </tr>\n",
       "  </thead>\n",
       "  <tbody>\n",
       "    <tr>\n",
       "      <th>0</th>\n",
       "      <td>12742</td>\n",
       "      <td>10006</td>\n",
       "      <td>142345</td>\n",
       "      <td>206504</td>\n",
       "      <td>carevue</td>\n",
       "      <td>MICU</td>\n",
       "      <td>MICU</td>\n",
       "      <td>52</td>\n",
       "      <td>52</td>\n",
       "      <td>2164-10-23 21:10:15</td>\n",
       "      <td>2164-10-25 12:21:07</td>\n",
       "      <td>1.6325</td>\n",
       "    </tr>\n",
       "    <tr>\n",
       "      <th>1</th>\n",
       "      <td>12747</td>\n",
       "      <td>10011</td>\n",
       "      <td>105331</td>\n",
       "      <td>232110</td>\n",
       "      <td>carevue</td>\n",
       "      <td>MICU</td>\n",
       "      <td>MICU</td>\n",
       "      <td>15</td>\n",
       "      <td>15</td>\n",
       "      <td>2126-08-14 22:34:00</td>\n",
       "      <td>2126-08-28 18:59:00</td>\n",
       "      <td>13.8507</td>\n",
       "    </tr>\n",
       "    <tr>\n",
       "      <th>2</th>\n",
       "      <td>12749</td>\n",
       "      <td>10013</td>\n",
       "      <td>165520</td>\n",
       "      <td>264446</td>\n",
       "      <td>carevue</td>\n",
       "      <td>MICU</td>\n",
       "      <td>MICU</td>\n",
       "      <td>15</td>\n",
       "      <td>15</td>\n",
       "      <td>2125-10-04 23:38:00</td>\n",
       "      <td>2125-10-07 15:13:52</td>\n",
       "      <td>2.6499</td>\n",
       "    </tr>\n",
       "    <tr>\n",
       "      <th>3</th>\n",
       "      <td>12754</td>\n",
       "      <td>10017</td>\n",
       "      <td>199207</td>\n",
       "      <td>204881</td>\n",
       "      <td>carevue</td>\n",
       "      <td>CCU</td>\n",
       "      <td>CCU</td>\n",
       "      <td>7</td>\n",
       "      <td>7</td>\n",
       "      <td>2149-05-29 18:52:29</td>\n",
       "      <td>2149-05-31 22:19:17</td>\n",
       "      <td>2.1436</td>\n",
       "    </tr>\n",
       "    <tr>\n",
       "      <th>4</th>\n",
       "      <td>12755</td>\n",
       "      <td>10019</td>\n",
       "      <td>177759</td>\n",
       "      <td>228977</td>\n",
       "      <td>carevue</td>\n",
       "      <td>MICU</td>\n",
       "      <td>MICU</td>\n",
       "      <td>15</td>\n",
       "      <td>15</td>\n",
       "      <td>2163-05-14 20:43:56</td>\n",
       "      <td>2163-05-16 03:47:04</td>\n",
       "      <td>1.2938</td>\n",
       "    </tr>\n",
       "    <tr>\n",
       "      <th>...</th>\n",
       "      <td>...</td>\n",
       "      <td>...</td>\n",
       "      <td>...</td>\n",
       "      <td>...</td>\n",
       "      <td>...</td>\n",
       "      <td>...</td>\n",
       "      <td>...</td>\n",
       "      <td>...</td>\n",
       "      <td>...</td>\n",
       "      <td>...</td>\n",
       "      <td>...</td>\n",
       "      <td>...</td>\n",
       "    </tr>\n",
       "    <tr>\n",
       "      <th>131</th>\n",
       "      <td>42676</td>\n",
       "      <td>44083</td>\n",
       "      <td>198330</td>\n",
       "      <td>286428</td>\n",
       "      <td>metavision</td>\n",
       "      <td>CCU</td>\n",
       "      <td>CCU</td>\n",
       "      <td>7</td>\n",
       "      <td>7</td>\n",
       "      <td>2112-05-29 02:01:33</td>\n",
       "      <td>2112-06-01 16:50:40</td>\n",
       "      <td>3.6174</td>\n",
       "    </tr>\n",
       "    <tr>\n",
       "      <th>132</th>\n",
       "      <td>42691</td>\n",
       "      <td>44154</td>\n",
       "      <td>174245</td>\n",
       "      <td>217724</td>\n",
       "      <td>metavision</td>\n",
       "      <td>MICU</td>\n",
       "      <td>MICU</td>\n",
       "      <td>50</td>\n",
       "      <td>50</td>\n",
       "      <td>2178-05-14 20:29:55</td>\n",
       "      <td>2178-05-15 11:31:12</td>\n",
       "      <td>0.6259</td>\n",
       "    </tr>\n",
       "    <tr>\n",
       "      <th>133</th>\n",
       "      <td>42709</td>\n",
       "      <td>44212</td>\n",
       "      <td>163189</td>\n",
       "      <td>239396</td>\n",
       "      <td>metavision</td>\n",
       "      <td>MICU</td>\n",
       "      <td>MICU</td>\n",
       "      <td>50</td>\n",
       "      <td>50</td>\n",
       "      <td>2123-11-24 14:14:29</td>\n",
       "      <td>2123-12-25 17:12:19</td>\n",
       "      <td>31.1235</td>\n",
       "    </tr>\n",
       "    <tr>\n",
       "      <th>134</th>\n",
       "      <td>42712</td>\n",
       "      <td>44222</td>\n",
       "      <td>192189</td>\n",
       "      <td>238186</td>\n",
       "      <td>metavision</td>\n",
       "      <td>CCU</td>\n",
       "      <td>CCU</td>\n",
       "      <td>7</td>\n",
       "      <td>7</td>\n",
       "      <td>2180-07-19 06:56:38</td>\n",
       "      <td>2180-07-20 14:48:45</td>\n",
       "      <td>1.3279</td>\n",
       "    </tr>\n",
       "    <tr>\n",
       "      <th>135</th>\n",
       "      <td>42714</td>\n",
       "      <td>44228</td>\n",
       "      <td>103379</td>\n",
       "      <td>217992</td>\n",
       "      <td>metavision</td>\n",
       "      <td>SICU</td>\n",
       "      <td>SICU</td>\n",
       "      <td>57</td>\n",
       "      <td>57</td>\n",
       "      <td>2170-12-15 04:41:39</td>\n",
       "      <td>2170-12-19 19:33:09</td>\n",
       "      <td>4.6191</td>\n",
       "    </tr>\n",
       "  </tbody>\n",
       "</table>\n",
       "<p>136 rows × 12 columns</p>\n",
       "</div>"
      ],
      "text/plain": [
       "     row_id  subject_id  hadm_id  icustay_id    dbsource first_careunit  \\\n",
       "0     12742       10006   142345      206504     carevue           MICU   \n",
       "1     12747       10011   105331      232110     carevue           MICU   \n",
       "2     12749       10013   165520      264446     carevue           MICU   \n",
       "3     12754       10017   199207      204881     carevue            CCU   \n",
       "4     12755       10019   177759      228977     carevue           MICU   \n",
       "..      ...         ...      ...         ...         ...            ...   \n",
       "131   42676       44083   198330      286428  metavision            CCU   \n",
       "132   42691       44154   174245      217724  metavision           MICU   \n",
       "133   42709       44212   163189      239396  metavision           MICU   \n",
       "134   42712       44222   192189      238186  metavision            CCU   \n",
       "135   42714       44228   103379      217992  metavision           SICU   \n",
       "\n",
       "    last_careunit  first_wardid  last_wardid               intime  \\\n",
       "0            MICU            52           52  2164-10-23 21:10:15   \n",
       "1            MICU            15           15  2126-08-14 22:34:00   \n",
       "2            MICU            15           15  2125-10-04 23:38:00   \n",
       "3             CCU             7            7  2149-05-29 18:52:29   \n",
       "4            MICU            15           15  2163-05-14 20:43:56   \n",
       "..            ...           ...          ...                  ...   \n",
       "131           CCU             7            7  2112-05-29 02:01:33   \n",
       "132          MICU            50           50  2178-05-14 20:29:55   \n",
       "133          MICU            50           50  2123-11-24 14:14:29   \n",
       "134           CCU             7            7  2180-07-19 06:56:38   \n",
       "135          SICU            57           57  2170-12-15 04:41:39   \n",
       "\n",
       "                 outtime      los  \n",
       "0    2164-10-25 12:21:07   1.6325  \n",
       "1    2126-08-28 18:59:00  13.8507  \n",
       "2    2125-10-07 15:13:52   2.6499  \n",
       "3    2149-05-31 22:19:17   2.1436  \n",
       "4    2163-05-16 03:47:04   1.2938  \n",
       "..                   ...      ...  \n",
       "131  2112-06-01 16:50:40   3.6174  \n",
       "132  2178-05-15 11:31:12   0.6259  \n",
       "133  2123-12-25 17:12:19  31.1235  \n",
       "134  2180-07-20 14:48:45   1.3279  \n",
       "135  2170-12-19 19:33:09   4.6191  \n",
       "\n",
       "[136 rows x 12 columns]"
      ]
     },
     "execution_count": 38,
     "metadata": {},
     "output_type": "execute_result"
    }
   ],
   "source": [
    "df\n"
   ]
  },
  {
   "cell_type": "code",
   "execution_count": 39,
   "id": "d3e81517",
   "metadata": {},
   "outputs": [
    {
     "name": "stdout",
     "output_type": "stream",
     "text": [
      "<class 'pandas.core.frame.DataFrame'>\n",
      "RangeIndex: 136 entries, 0 to 135\n",
      "Data columns (total 12 columns):\n",
      " #   Column          Non-Null Count  Dtype  \n",
      "---  ------          --------------  -----  \n",
      " 0   row_id          136 non-null    int64  \n",
      " 1   subject_id      136 non-null    int64  \n",
      " 2   hadm_id         136 non-null    int64  \n",
      " 3   icustay_id      136 non-null    int64  \n",
      " 4   dbsource        136 non-null    object \n",
      " 5   first_careunit  136 non-null    object \n",
      " 6   last_careunit   136 non-null    object \n",
      " 7   first_wardid    136 non-null    int64  \n",
      " 8   last_wardid     136 non-null    int64  \n",
      " 9   intime          136 non-null    object \n",
      " 10  outtime         136 non-null    object \n",
      " 11  los             136 non-null    float64\n",
      "dtypes: float64(1), int64(6), object(5)\n",
      "memory usage: 12.9+ KB\n"
     ]
    }
   ],
   "source": [
    "df.info()"
   ]
  },
  {
   "cell_type": "code",
   "execution_count": 40,
   "id": "ca642567",
   "metadata": {},
   "outputs": [
    {
     "data": {
      "text/plain": [
       "row_id              int64\n",
       "subject_id          int64\n",
       "hadm_id             int64\n",
       "icustay_id          int64\n",
       "dbsource           object\n",
       "first_careunit     object\n",
       "last_careunit      object\n",
       "first_wardid        int64\n",
       "last_wardid         int64\n",
       "intime             object\n",
       "outtime            object\n",
       "los               float64\n",
       "dtype: object"
      ]
     },
     "execution_count": 40,
     "metadata": {},
     "output_type": "execute_result"
    }
   ],
   "source": [
    "df.dtypes"
   ]
  },
  {
   "cell_type": "code",
   "execution_count": 41,
   "id": "cc18384a",
   "metadata": {},
   "outputs": [],
   "source": [
    "df.drop(columns=['dbsource','first_careunit','last_careunit','first_wardid','last_wardid'],inplace=True)"
   ]
  },
  {
   "cell_type": "code",
   "execution_count": 42,
   "id": "8a8ba966",
   "metadata": {},
   "outputs": [
    {
     "name": "stdout",
     "output_type": "stream",
     "text": [
      "<class 'pandas.core.frame.DataFrame'>\n",
      "RangeIndex: 136 entries, 0 to 135\n",
      "Data columns (total 7 columns):\n",
      " #   Column      Non-Null Count  Dtype  \n",
      "---  ------      --------------  -----  \n",
      " 0   row_id      136 non-null    int64  \n",
      " 1   subject_id  136 non-null    int64  \n",
      " 2   hadm_id     136 non-null    int64  \n",
      " 3   icustay_id  136 non-null    int64  \n",
      " 4   intime      136 non-null    object \n",
      " 5   outtime     136 non-null    object \n",
      " 6   los         136 non-null    float64\n",
      "dtypes: float64(1), int64(4), object(2)\n",
      "memory usage: 7.6+ KB\n"
     ]
    }
   ],
   "source": [
    "df.info()"
   ]
  },
  {
   "cell_type": "code",
   "execution_count": 43,
   "id": "23f48185",
   "metadata": {},
   "outputs": [
    {
     "name": "stdout",
     "output_type": "stream",
     "text": [
      "     icustay_id      los  los_hours\n",
      "0        206504   1.6325    39.1800\n",
      "1        232110  13.8507   332.4168\n",
      "2        264446   2.6499    63.5976\n",
      "3        204881   2.1436    51.4464\n",
      "4        228977   1.2938    31.0512\n",
      "..          ...      ...        ...\n",
      "131      286428   3.6174    86.8176\n",
      "132      217724   0.6259    15.0216\n",
      "133      239396  31.1235   746.9640\n",
      "134      238186   1.3279    31.8696\n",
      "135      217992   4.6191   110.8584\n",
      "\n",
      "[136 rows x 3 columns]\n"
     ]
    }
   ],
   "source": [
    "df['los_hours'] = df['los'] * 24  \n",
    "print(df[['icustay_id', 'los', 'los_hours']])\n"
   ]
  },
  {
   "cell_type": "code",
   "execution_count": 44,
   "id": "8e5a5106",
   "metadata": {},
   "outputs": [
    {
     "data": {
      "text/html": [
       "<div>\n",
       "<style scoped>\n",
       "    .dataframe tbody tr th:only-of-type {\n",
       "        vertical-align: middle;\n",
       "    }\n",
       "\n",
       "    .dataframe tbody tr th {\n",
       "        vertical-align: top;\n",
       "    }\n",
       "\n",
       "    .dataframe thead th {\n",
       "        text-align: right;\n",
       "    }\n",
       "</style>\n",
       "<table border=\"1\" class=\"dataframe\">\n",
       "  <thead>\n",
       "    <tr style=\"text-align: right;\">\n",
       "      <th></th>\n",
       "      <th>row_id</th>\n",
       "      <th>subject_id</th>\n",
       "      <th>hadm_id</th>\n",
       "      <th>icustay_id</th>\n",
       "      <th>intime</th>\n",
       "      <th>outtime</th>\n",
       "      <th>los</th>\n",
       "      <th>los_hours</th>\n",
       "    </tr>\n",
       "  </thead>\n",
       "  <tbody>\n",
       "    <tr>\n",
       "      <th>0</th>\n",
       "      <td>12742</td>\n",
       "      <td>10006</td>\n",
       "      <td>142345</td>\n",
       "      <td>206504</td>\n",
       "      <td>2164-10-23 21:10:15</td>\n",
       "      <td>2164-10-25 12:21:07</td>\n",
       "      <td>1.6325</td>\n",
       "      <td>39.1800</td>\n",
       "    </tr>\n",
       "    <tr>\n",
       "      <th>1</th>\n",
       "      <td>12747</td>\n",
       "      <td>10011</td>\n",
       "      <td>105331</td>\n",
       "      <td>232110</td>\n",
       "      <td>2126-08-14 22:34:00</td>\n",
       "      <td>2126-08-28 18:59:00</td>\n",
       "      <td>13.8507</td>\n",
       "      <td>332.4168</td>\n",
       "    </tr>\n",
       "  </tbody>\n",
       "</table>\n",
       "</div>"
      ],
      "text/plain": [
       "   row_id  subject_id  hadm_id  icustay_id               intime  \\\n",
       "0   12742       10006   142345      206504  2164-10-23 21:10:15   \n",
       "1   12747       10011   105331      232110  2126-08-14 22:34:00   \n",
       "\n",
       "               outtime      los  los_hours  \n",
       "0  2164-10-25 12:21:07   1.6325    39.1800  \n",
       "1  2126-08-28 18:59:00  13.8507   332.4168  "
      ]
     },
     "execution_count": 44,
     "metadata": {},
     "output_type": "execute_result"
    }
   ],
   "source": [
    "df.head(2)"
   ]
  },
  {
   "cell_type": "code",
   "execution_count": 45,
   "id": "303630dd",
   "metadata": {},
   "outputs": [],
   "source": [
    "df['los_hours']=df['los_hours'].astype('int64')"
   ]
  },
  {
   "cell_type": "code",
   "execution_count": 46,
   "id": "8909cb4f",
   "metadata": {},
   "outputs": [
    {
     "data": {
      "text/html": [
       "<div>\n",
       "<style scoped>\n",
       "    .dataframe tbody tr th:only-of-type {\n",
       "        vertical-align: middle;\n",
       "    }\n",
       "\n",
       "    .dataframe tbody tr th {\n",
       "        vertical-align: top;\n",
       "    }\n",
       "\n",
       "    .dataframe thead th {\n",
       "        text-align: right;\n",
       "    }\n",
       "</style>\n",
       "<table border=\"1\" class=\"dataframe\">\n",
       "  <thead>\n",
       "    <tr style=\"text-align: right;\">\n",
       "      <th></th>\n",
       "      <th>row_id</th>\n",
       "      <th>subject_id</th>\n",
       "      <th>hadm_id</th>\n",
       "      <th>icustay_id</th>\n",
       "      <th>intime</th>\n",
       "      <th>outtime</th>\n",
       "      <th>los</th>\n",
       "      <th>los_hours</th>\n",
       "    </tr>\n",
       "  </thead>\n",
       "  <tbody>\n",
       "    <tr>\n",
       "      <th>0</th>\n",
       "      <td>12742</td>\n",
       "      <td>10006</td>\n",
       "      <td>142345</td>\n",
       "      <td>206504</td>\n",
       "      <td>2164-10-23 21:10:15</td>\n",
       "      <td>2164-10-25 12:21:07</td>\n",
       "      <td>1.6325</td>\n",
       "      <td>39</td>\n",
       "    </tr>\n",
       "    <tr>\n",
       "      <th>1</th>\n",
       "      <td>12747</td>\n",
       "      <td>10011</td>\n",
       "      <td>105331</td>\n",
       "      <td>232110</td>\n",
       "      <td>2126-08-14 22:34:00</td>\n",
       "      <td>2126-08-28 18:59:00</td>\n",
       "      <td>13.8507</td>\n",
       "      <td>332</td>\n",
       "    </tr>\n",
       "  </tbody>\n",
       "</table>\n",
       "</div>"
      ],
      "text/plain": [
       "   row_id  subject_id  hadm_id  icustay_id               intime  \\\n",
       "0   12742       10006   142345      206504  2164-10-23 21:10:15   \n",
       "1   12747       10011   105331      232110  2126-08-14 22:34:00   \n",
       "\n",
       "               outtime      los  los_hours  \n",
       "0  2164-10-25 12:21:07   1.6325         39  \n",
       "1  2126-08-28 18:59:00  13.8507        332  "
      ]
     },
     "execution_count": 46,
     "metadata": {},
     "output_type": "execute_result"
    }
   ],
   "source": [
    "df.head(2)"
   ]
  },
  {
   "cell_type": "code",
   "execution_count": 47,
   "id": "d8ee786b",
   "metadata": {},
   "outputs": [],
   "source": [
    "df.drop(columns=['los'],inplace=True)"
   ]
  },
  {
   "cell_type": "code",
   "execution_count": 48,
   "id": "9cd289e1",
   "metadata": {},
   "outputs": [
    {
     "name": "stdout",
     "output_type": "stream",
     "text": [
      "<class 'pandas.core.frame.DataFrame'>\n",
      "RangeIndex: 136 entries, 0 to 135\n",
      "Data columns (total 7 columns):\n",
      " #   Column      Non-Null Count  Dtype \n",
      "---  ------      --------------  ----- \n",
      " 0   row_id      136 non-null    int64 \n",
      " 1   subject_id  136 non-null    int64 \n",
      " 2   hadm_id     136 non-null    int64 \n",
      " 3   icustay_id  136 non-null    int64 \n",
      " 4   intime      136 non-null    object\n",
      " 5   outtime     136 non-null    object\n",
      " 6   los_hours   136 non-null    int64 \n",
      "dtypes: int64(5), object(2)\n",
      "memory usage: 7.6+ KB\n"
     ]
    }
   ],
   "source": [
    "df.info()"
   ]
  },
  {
   "cell_type": "code",
   "execution_count": 50,
   "id": "877ded06",
   "metadata": {},
   "outputs": [
    {
     "name": "stderr",
     "output_type": "stream",
     "text": [
      "<>:23: SyntaxWarning: invalid escape sequence '\\I'\n",
      "<>:23: SyntaxWarning: invalid escape sequence '\\I'\n",
      "C:\\Users\\AHMED\\AppData\\Local\\Temp\\ipykernel_31344\\2601126944.py:23: SyntaxWarning: invalid escape sequence '\\I'\n",
      "  \"D:\\ITI Data engineering intensive camp\\Big data\\Project\\Cleaned_data\\ICUSTAYS.parquet\",\n"
     ]
    }
   ],
   "source": [
    "import pyarrow as pa\n",
    "import pyarrow.parquet as pq\n",
    "\n",
    "# حول أعمدة التواريخ ل datetime\n",
    "df['intime'] = pd.to_datetime(df['intime'])\n",
    "df['outtime'] = pd.to_datetime(df['outtime'])\n",
    "\n",
    "schema = pa.schema([\n",
    "    ('row_id', pa.int64()),\n",
    "    ('subject_id', pa.int64()),\n",
    "    ('hadm_id', pa.int64()),\n",
    "    ('icustay_id', pa.int64()),\n",
    "    ('intime', pa.timestamp('ns')),\n",
    "    ('outtime', pa.timestamp('ns')),\n",
    "    ('los_hours',pa.int64())\n",
    "])\n",
    "\n",
    "# حول الـ DataFrame ل PyArrow Table\n",
    "table = pa.Table.from_pandas(df, schema=schema, preserve_index=False)\n",
    "\n",
    "# اكتبها في Parquet\n",
    "pq.write_table(table.cast(schema),\n",
    "                \"D:\\ITI Data engineering intensive camp\\Big data\\Project\\Cleaned_data\\ICUSTAYS.parquet\",\n",
    "                  version='2.6',\n",
    "    use_dictionary=True,\n",
    "    compression='SNAPPY', \n",
    "    flavor='spark')"
   ]
  },
  {
   "cell_type": "code",
   "execution_count": null,
   "id": "a65b78d1",
   "metadata": {},
   "outputs": [],
   "source": [
    "table = pq.read_table(\"D:\\\\ITI Data engineering intensive camp\\\\Big data\\\\Project\\\\Cleaned_data\\\\ADMISSIONS.parquet\")\n",
    "\n",
    "\n",
    "\n",
    "pq.write_table(\n",
    "    table.cast(schema),\n",
    "    \"D:\\\\ITI Data engineering intensive camp\\\\Big data\\\\Project\\\\Cleaned_data\\\\ADMISSIONS.parquet\",\n",
    "    version='2.6',\n",
    "    use_dictionary=True,\n",
    "    compression='SNAPPY', \n",
    "    flavor='spark'\n",
    ")"
   ]
  },
  {
   "cell_type": "code",
   "execution_count": 13,
   "id": "34f5a9cc",
   "metadata": {},
   "outputs": [
    {
     "name": "stdout",
     "output_type": "stream",
     "text": [
      "c:\\Users\\windows\\AppData\\Local\\Programs\\Microsoft VS Code\n"
     ]
    }
   ],
   "source": [
    "import os\n",
    "\n",
    "print(os.getcwd())\n"
   ]
  },
  {
   "cell_type": "code",
   "execution_count": 52,
   "id": "89660bbe",
   "metadata": {},
   "outputs": [
    {
     "name": "stderr",
     "output_type": "stream",
     "text": [
      "<>:1: SyntaxWarning: invalid escape sequence '\\I'\n",
      "<>:2: SyntaxWarning: invalid escape sequence '\\I'\n",
      "<>:1: SyntaxWarning: invalid escape sequence '\\I'\n",
      "<>:2: SyntaxWarning: invalid escape sequence '\\I'\n",
      "C:\\Users\\AHMED\\AppData\\Local\\Temp\\ipykernel_31344\\3533214200.py:1: SyntaxWarning: invalid escape sequence '\\I'\n",
      "  df=pd.read_parquet(\"D:\\ITI Data engineering intensive camp\\Big data\\Project\\Cleaned_data\\ICUSTAYS.parquet\")\n",
      "C:\\Users\\AHMED\\AppData\\Local\\Temp\\ipykernel_31344\\3533214200.py:2: SyntaxWarning: invalid escape sequence '\\I'\n",
      "  sc = pq.read_schema(\"D:\\ITI Data engineering intensive camp\\Big data\\Project\\Cleaned_data\\ICUSTAYS.parquet\")\n"
     ]
    }
   ],
   "source": [
    "df=pd.read_parquet(\"D:\\ITI Data engineering intensive camp\\Big data\\Project\\Cleaned_data\\ICUSTAYS.parquet\")\n",
    "sc = pq.read_schema(\"D:\\ITI Data engineering intensive camp\\Big data\\Project\\Cleaned_data\\ICUSTAYS.parquet\")"
   ]
  },
  {
   "cell_type": "code",
   "execution_count": 53,
   "id": "01d7ad30",
   "metadata": {},
   "outputs": [
    {
     "data": {
      "text/plain": [
       "row_id: int64\n",
       "subject_id: int64\n",
       "hadm_id: int64\n",
       "icustay_id: int64\n",
       "intime: timestamp[ns]\n",
       "outtime: timestamp[ns]\n",
       "los_hours: int64"
      ]
     },
     "execution_count": 53,
     "metadata": {},
     "output_type": "execute_result"
    }
   ],
   "source": [
    "sc"
   ]
  }
 ],
 "metadata": {
  "kernelspec": {
   "display_name": "Python 3",
   "language": "python",
   "name": "python3"
  },
  "language_info": {
   "codemirror_mode": {
    "name": "ipython",
    "version": 3
   },
   "file_extension": ".py",
   "mimetype": "text/x-python",
   "name": "python",
   "nbconvert_exporter": "python",
   "pygments_lexer": "ipython3",
   "version": "3.13.2"
  }
 },
 "nbformat": 4,
 "nbformat_minor": 5
}
