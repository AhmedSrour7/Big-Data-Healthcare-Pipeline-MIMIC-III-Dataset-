{
 "cells": [
  {
   "cell_type": "code",
   "execution_count": 1,
   "id": "e90651cc",
   "metadata": {},
   "outputs": [],
   "source": [
    "import pandas as pd\n",
    "import pyarrow as pa\n",
    "import pyarrow.parquet as pq"
   ]
  },
  {
   "cell_type": "code",
   "execution_count": null,
   "id": "31174adb",
   "metadata": {},
   "outputs": [
    {
     "name": "stderr",
     "output_type": "stream",
     "text": [
      "<>:1: SyntaxWarning: invalid escape sequence '\\I'\n",
      "<>:16: SyntaxWarning: invalid escape sequence '\\I'\n",
      "<>:1: SyntaxWarning: invalid escape sequence '\\I'\n",
      "<>:16: SyntaxWarning: invalid escape sequence '\\I'\n",
      "C:\\Users\\AHMED\\AppData\\Local\\Temp\\ipykernel_35020\\3702531676.py:1: SyntaxWarning: invalid escape sequence '\\I'\n",
      "  table = pq.read_table(\"D:\\ITI Data engineering intensive camp\\Big data\\Project\\Cleaned_data\\PATIENTS.parquet\")\n",
      "C:\\Users\\AHMED\\AppData\\Local\\Temp\\ipykernel_35020\\3702531676.py:16: SyntaxWarning: invalid escape sequence '\\I'\n",
      "  \"D:\\ITI Data engineering intensive camp\\Big data\\Project\\Cleaned_data\\PATIENTS.parquet\",\n"
     ]
    }
   ],
   "source": [
    "table = pq.read_table(\"D:\\ITI Data engineering intensive camp\\Big data\\Project\\Cleaned_data\\PATIENTS.parquet\")\n",
    "schema = pa.schema([\n",
    "    pa.field('row_id', pa.int64()),\n",
    "    pa.field('subject_id', pa.int64()),\n",
    "    pa.field('gender', pa.string()),\n",
    "    pa.field('dob', pa.timestamp('ns')),\n",
    "    pa.field('dod', pa.timestamp('ns')),\n",
    "    pa.field('dod_hosp', pa.timestamp('ns')),\n",
    "    pa.field('dod_ssn', pa.timestamp('ns')),\n",
    "    pa.field('expire_flag', pa.int32()),  \n",
    "    pa.field('is_deceased',pa.int32())\n",
    "])\n",
    "\n",
    "pq.write_table(\n",
    "    table.cast(schema),\n",
    "    \"D:\\ITI Data engineering intensive camp\\Big data\\Project\\Cleaned_data\\PATIENTS.parquet\",\n",
    "    version='2.6',\n",
    "    use_dictionary=True,\n",
    "    compression='SNAPPY',\n",
    "    flavor='spark'\n",
    ")"
   ]
  }
 ],
 "metadata": {
  "kernelspec": {
   "display_name": "Python 3",
   "language": "python",
   "name": "python3"
  },
  "language_info": {
   "codemirror_mode": {
    "name": "ipython",
    "version": 3
   },
   "file_extension": ".py",
   "mimetype": "text/x-python",
   "name": "python",
   "nbconvert_exporter": "python",
   "pygments_lexer": "ipython3",
   "version": "3.13.2"
  }
 },
 "nbformat": 4,
 "nbformat_minor": 5
}
