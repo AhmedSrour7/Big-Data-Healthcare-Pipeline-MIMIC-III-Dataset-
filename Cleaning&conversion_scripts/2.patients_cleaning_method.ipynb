{
 "cells": [
  {
   "cell_type": "code",
   "execution_count": 1,
   "id": "6415524b",
   "metadata": {},
   "outputs": [],
   "source": [
    "import pandas as pd"
   ]
  },
  {
   "cell_type": "code",
   "execution_count": 2,
   "id": "d656096a",
   "metadata": {},
   "outputs": [],
   "source": [
    "import numpy as np"
   ]
  },
  {
   "cell_type": "code",
   "execution_count": 3,
   "id": "b4d05acc",
   "metadata": {},
   "outputs": [
    {
     "name": "stderr",
     "output_type": "stream",
     "text": [
      "<>:1: SyntaxWarning: invalid escape sequence '\\I'\n",
      "<>:1: SyntaxWarning: invalid escape sequence '\\I'\n",
      "C:\\Users\\AHMED\\AppData\\Local\\Temp\\ipykernel_58432\\1160098319.py:1: SyntaxWarning: invalid escape sequence '\\I'\n",
      "  df_pat = pd.read_csv(\"D:\\ITI Data engineering intensive camp\\Big data\\Project\\mimic-iii-clinical-database-demo-1.4\\PATIENTS.csv\")\n"
     ]
    }
   ],
   "source": [
    "df_pat = pd.read_csv(\"D:\\ITI Data engineering intensive camp\\Big data\\Project\\mimic-iii-clinical-database-demo-1.4\\PATIENTS.csv\")"
   ]
  },
  {
   "cell_type": "code",
   "execution_count": 87,
   "id": "bcc11700",
   "metadata": {},
   "outputs": [
    {
     "name": "stdout",
     "output_type": "stream",
     "text": [
      "<class 'pandas.core.frame.DataFrame'>\n",
      "RangeIndex: 100 entries, 0 to 99\n",
      "Data columns (total 8 columns):\n",
      " #   Column       Non-Null Count  Dtype \n",
      "---  ------       --------------  ----- \n",
      " 0   row_id       100 non-null    int64 \n",
      " 1   subject_id   100 non-null    int64 \n",
      " 2   gender       100 non-null    object\n",
      " 3   dob          100 non-null    object\n",
      " 4   dod          100 non-null    object\n",
      " 5   dod_hosp     70 non-null     object\n",
      " 6   dod_ssn      77 non-null     object\n",
      " 7   expire_flag  100 non-null    int64 \n",
      "dtypes: int64(3), object(5)\n",
      "memory usage: 6.4+ KB\n"
     ]
    }
   ],
   "source": [
    "df_pat.info()"
   ]
  },
  {
   "cell_type": "code",
   "execution_count": 88,
   "id": "7a2c323d",
   "metadata": {},
   "outputs": [
    {
     "data": {
      "text/plain": [
       "row_id          0\n",
       "subject_id      0\n",
       "gender          0\n",
       "dob             0\n",
       "dod             0\n",
       "dod_hosp       30\n",
       "dod_ssn        23\n",
       "expire_flag     0\n",
       "dtype: int64"
      ]
     },
     "execution_count": 88,
     "metadata": {},
     "output_type": "execute_result"
    }
   ],
   "source": [
    "df_pat.isnull().sum()\n"
   ]
  },
  {
   "cell_type": "code",
   "execution_count": 89,
   "id": "390c40a1",
   "metadata": {},
   "outputs": [
    {
     "data": {
      "text/html": [
       "<div>\n",
       "<style scoped>\n",
       "    .dataframe tbody tr th:only-of-type {\n",
       "        vertical-align: middle;\n",
       "    }\n",
       "\n",
       "    .dataframe tbody tr th {\n",
       "        vertical-align: top;\n",
       "    }\n",
       "\n",
       "    .dataframe thead th {\n",
       "        text-align: right;\n",
       "    }\n",
       "</style>\n",
       "<table border=\"1\" class=\"dataframe\">\n",
       "  <thead>\n",
       "    <tr style=\"text-align: right;\">\n",
       "      <th></th>\n",
       "      <th>row_id</th>\n",
       "      <th>subject_id</th>\n",
       "      <th>gender</th>\n",
       "      <th>dob</th>\n",
       "      <th>dod</th>\n",
       "      <th>dod_hosp</th>\n",
       "      <th>dod_ssn</th>\n",
       "      <th>expire_flag</th>\n",
       "    </tr>\n",
       "  </thead>\n",
       "  <tbody>\n",
       "    <tr>\n",
       "      <th>0</th>\n",
       "      <td>9467</td>\n",
       "      <td>10006</td>\n",
       "      <td>F</td>\n",
       "      <td>2094-03-05 00:00:00</td>\n",
       "      <td>2165-08-12 00:00:00</td>\n",
       "      <td>2165-08-12 00:00:00</td>\n",
       "      <td>2165-08-12 00:00:00</td>\n",
       "      <td>1</td>\n",
       "    </tr>\n",
       "    <tr>\n",
       "      <th>1</th>\n",
       "      <td>9472</td>\n",
       "      <td>10011</td>\n",
       "      <td>F</td>\n",
       "      <td>2090-06-05 00:00:00</td>\n",
       "      <td>2126-08-28 00:00:00</td>\n",
       "      <td>2126-08-28 00:00:00</td>\n",
       "      <td>NaN</td>\n",
       "      <td>1</td>\n",
       "    </tr>\n",
       "    <tr>\n",
       "      <th>2</th>\n",
       "      <td>9474</td>\n",
       "      <td>10013</td>\n",
       "      <td>F</td>\n",
       "      <td>2038-09-03 00:00:00</td>\n",
       "      <td>2125-10-07 00:00:00</td>\n",
       "      <td>2125-10-07 00:00:00</td>\n",
       "      <td>2125-10-07 00:00:00</td>\n",
       "      <td>1</td>\n",
       "    </tr>\n",
       "    <tr>\n",
       "      <th>3</th>\n",
       "      <td>9478</td>\n",
       "      <td>10017</td>\n",
       "      <td>F</td>\n",
       "      <td>2075-09-21 00:00:00</td>\n",
       "      <td>2152-09-12 00:00:00</td>\n",
       "      <td>NaN</td>\n",
       "      <td>2152-09-12 00:00:00</td>\n",
       "      <td>1</td>\n",
       "    </tr>\n",
       "    <tr>\n",
       "      <th>4</th>\n",
       "      <td>9479</td>\n",
       "      <td>10019</td>\n",
       "      <td>M</td>\n",
       "      <td>2114-06-20 00:00:00</td>\n",
       "      <td>2163-05-15 00:00:00</td>\n",
       "      <td>2163-05-15 00:00:00</td>\n",
       "      <td>2163-05-15 00:00:00</td>\n",
       "      <td>1</td>\n",
       "    </tr>\n",
       "  </tbody>\n",
       "</table>\n",
       "</div>"
      ],
      "text/plain": [
       "   row_id  subject_id gender                  dob                  dod  \\\n",
       "0    9467       10006      F  2094-03-05 00:00:00  2165-08-12 00:00:00   \n",
       "1    9472       10011      F  2090-06-05 00:00:00  2126-08-28 00:00:00   \n",
       "2    9474       10013      F  2038-09-03 00:00:00  2125-10-07 00:00:00   \n",
       "3    9478       10017      F  2075-09-21 00:00:00  2152-09-12 00:00:00   \n",
       "4    9479       10019      M  2114-06-20 00:00:00  2163-05-15 00:00:00   \n",
       "\n",
       "              dod_hosp              dod_ssn  expire_flag  \n",
       "0  2165-08-12 00:00:00  2165-08-12 00:00:00            1  \n",
       "1  2126-08-28 00:00:00                  NaN            1  \n",
       "2  2125-10-07 00:00:00  2125-10-07 00:00:00            1  \n",
       "3                  NaN  2152-09-12 00:00:00            1  \n",
       "4  2163-05-15 00:00:00  2163-05-15 00:00:00            1  "
      ]
     },
     "execution_count": 89,
     "metadata": {},
     "output_type": "execute_result"
    }
   ],
   "source": [
    "df_pat.head()"
   ]
  },
  {
   "cell_type": "code",
   "execution_count": 90,
   "id": "bc25ba2e",
   "metadata": {},
   "outputs": [],
   "source": [
    "#Check if patient dead or not \n",
    "df_pat['is_deceased'] = df_pat['dod'].notna()\n"
   ]
  },
  {
   "cell_type": "code",
   "execution_count": 91,
   "id": "9549be55",
   "metadata": {},
   "outputs": [],
   "source": [
    "#check if there is unlogical data\n",
    "inconsistent = df_pat[(df_pat['expire_flag'] == 1) & (df_pat['dod'].isna()) | \n",
    "               (df_pat['expire_flag'] == 0) & (df_pat['dod'].notna())]\n",
    "if not inconsistent.empty:\n",
    "    print(f\"\\nتحذير: يوجد {len(inconsistent)} حالة غير متسقة في expire_flag\")"
   ]
  },
  {
   "cell_type": "code",
   "execution_count": 92,
   "id": "d1d04462",
   "metadata": {},
   "outputs": [],
   "source": [
    "#convert to date\n",
    "date_cols = ['dob', 'dod', 'dod_hosp', 'dod_ssn']\n",
    "for col in date_cols:\n",
    "    df_pat[col] = pd.to_datetime(df_pat[col], errors='coerce')"
   ]
  },
  {
   "cell_type": "code",
   "execution_count": 93,
   "id": "d62854c4",
   "metadata": {},
   "outputs": [],
   "source": [
    "#convert to category\n",
    "df_pat['gender'] = df_pat['gender'].astype('category')\n",
    "#convert to bool\n",
    "df_pat['expire_flag'] = df_pat['expire_flag'].astype(bool)\n"
   ]
  },
  {
   "cell_type": "code",
   "execution_count": 94,
   "id": "ab701823",
   "metadata": {},
   "outputs": [
    {
     "name": "stdout",
     "output_type": "stream",
     "text": [
      "<class 'pandas.core.frame.DataFrame'>\n",
      "RangeIndex: 100 entries, 0 to 99\n",
      "Data columns (total 9 columns):\n",
      " #   Column       Non-Null Count  Dtype         \n",
      "---  ------       --------------  -----         \n",
      " 0   row_id       100 non-null    int64         \n",
      " 1   subject_id   100 non-null    int64         \n",
      " 2   gender       100 non-null    category      \n",
      " 3   dob          100 non-null    datetime64[ns]\n",
      " 4   dod          100 non-null    datetime64[ns]\n",
      " 5   dod_hosp     70 non-null     datetime64[ns]\n",
      " 6   dod_ssn      77 non-null     datetime64[ns]\n",
      " 7   expire_flag  100 non-null    bool          \n",
      " 8   is_deceased  100 non-null    bool          \n",
      "dtypes: bool(2), category(1), datetime64[ns](4), int64(2)\n",
      "memory usage: 5.2 KB\n"
     ]
    }
   ],
   "source": [
    "df_pat.info()"
   ]
  },
  {
   "cell_type": "code",
   "execution_count": 36,
   "id": "22ae8682",
   "metadata": {},
   "outputs": [],
   "source": [
    "df_pat =df_pat.drop(columns=['dod_mismatch'], errors='ignore')\n"
   ]
  },
  {
   "cell_type": "code",
   "execution_count": 95,
   "id": "08410163",
   "metadata": {},
   "outputs": [
    {
     "data": {
      "text/plain": [
       "row_id                  int64\n",
       "subject_id              int64\n",
       "gender               category\n",
       "dob            datetime64[ns]\n",
       "dod            datetime64[ns]\n",
       "dod_hosp       datetime64[ns]\n",
       "dod_ssn        datetime64[ns]\n",
       "expire_flag              bool\n",
       "is_deceased              bool\n",
       "dtype: object"
      ]
     },
     "execution_count": 95,
     "metadata": {},
     "output_type": "execute_result"
    }
   ],
   "source": [
    "df_pat.dtypes"
   ]
  },
  {
   "cell_type": "code",
   "execution_count": 96,
   "id": "766e15db",
   "metadata": {},
   "outputs": [
    {
     "data": {
      "text/html": [
       "<div>\n",
       "<style scoped>\n",
       "    .dataframe tbody tr th:only-of-type {\n",
       "        vertical-align: middle;\n",
       "    }\n",
       "\n",
       "    .dataframe tbody tr th {\n",
       "        vertical-align: top;\n",
       "    }\n",
       "\n",
       "    .dataframe thead th {\n",
       "        text-align: right;\n",
       "    }\n",
       "</style>\n",
       "<table border=\"1\" class=\"dataframe\">\n",
       "  <thead>\n",
       "    <tr style=\"text-align: right;\">\n",
       "      <th></th>\n",
       "      <th>row_id</th>\n",
       "      <th>subject_id</th>\n",
       "      <th>gender</th>\n",
       "      <th>dob</th>\n",
       "      <th>dod</th>\n",
       "      <th>dod_hosp</th>\n",
       "      <th>dod_ssn</th>\n",
       "      <th>expire_flag</th>\n",
       "      <th>is_deceased</th>\n",
       "    </tr>\n",
       "  </thead>\n",
       "  <tbody>\n",
       "    <tr>\n",
       "      <th>0</th>\n",
       "      <td>9467</td>\n",
       "      <td>10006</td>\n",
       "      <td>F</td>\n",
       "      <td>2094-03-05</td>\n",
       "      <td>2165-08-12</td>\n",
       "      <td>2165-08-12</td>\n",
       "      <td>2165-08-12</td>\n",
       "      <td>True</td>\n",
       "      <td>True</td>\n",
       "    </tr>\n",
       "    <tr>\n",
       "      <th>1</th>\n",
       "      <td>9472</td>\n",
       "      <td>10011</td>\n",
       "      <td>F</td>\n",
       "      <td>2090-06-05</td>\n",
       "      <td>2126-08-28</td>\n",
       "      <td>2126-08-28</td>\n",
       "      <td>NaT</td>\n",
       "      <td>True</td>\n",
       "      <td>True</td>\n",
       "    </tr>\n",
       "    <tr>\n",
       "      <th>2</th>\n",
       "      <td>9474</td>\n",
       "      <td>10013</td>\n",
       "      <td>F</td>\n",
       "      <td>2038-09-03</td>\n",
       "      <td>2125-10-07</td>\n",
       "      <td>2125-10-07</td>\n",
       "      <td>2125-10-07</td>\n",
       "      <td>True</td>\n",
       "      <td>True</td>\n",
       "    </tr>\n",
       "    <tr>\n",
       "      <th>3</th>\n",
       "      <td>9478</td>\n",
       "      <td>10017</td>\n",
       "      <td>F</td>\n",
       "      <td>2075-09-21</td>\n",
       "      <td>2152-09-12</td>\n",
       "      <td>NaT</td>\n",
       "      <td>2152-09-12</td>\n",
       "      <td>True</td>\n",
       "      <td>True</td>\n",
       "    </tr>\n",
       "    <tr>\n",
       "      <th>4</th>\n",
       "      <td>9479</td>\n",
       "      <td>10019</td>\n",
       "      <td>M</td>\n",
       "      <td>2114-06-20</td>\n",
       "      <td>2163-05-15</td>\n",
       "      <td>2163-05-15</td>\n",
       "      <td>2163-05-15</td>\n",
       "      <td>True</td>\n",
       "      <td>True</td>\n",
       "    </tr>\n",
       "  </tbody>\n",
       "</table>\n",
       "</div>"
      ],
      "text/plain": [
       "   row_id  subject_id gender        dob        dod   dod_hosp    dod_ssn  \\\n",
       "0    9467       10006      F 2094-03-05 2165-08-12 2165-08-12 2165-08-12   \n",
       "1    9472       10011      F 2090-06-05 2126-08-28 2126-08-28        NaT   \n",
       "2    9474       10013      F 2038-09-03 2125-10-07 2125-10-07 2125-10-07   \n",
       "3    9478       10017      F 2075-09-21 2152-09-12        NaT 2152-09-12   \n",
       "4    9479       10019      M 2114-06-20 2163-05-15 2163-05-15 2163-05-15   \n",
       "\n",
       "   expire_flag  is_deceased  \n",
       "0         True         True  \n",
       "1         True         True  \n",
       "2         True         True  \n",
       "3         True         True  \n",
       "4         True         True  "
      ]
     },
     "execution_count": 96,
     "metadata": {},
     "output_type": "execute_result"
    }
   ],
   "source": [
    "df_pat.head()"
   ]
  },
  {
   "cell_type": "code",
   "execution_count": null,
   "id": "cdf7dec9",
   "metadata": {},
   "outputs": [],
   "source": [
    "\n",
    "datetime_cols = ['dob', 'dod', 'dod_hosp', 'dod_ssn']\n",
    "#for col in datetime_cols:\n",
    "    # تأكيد أن البيانات هي من نوع datetime أولاً\n",
    "    #df_pat[col] = pd.to_datetime(df_pat[col], errors='coerce')\n",
    "    \n",
    "    # تحويل إلى التنسيق المطلوب (yyyy-MM-dd HH:mm:ss)\n",
    "    #df_pat[col] = df_pat[col].dt.strftime('%Y-%m-%d %H:%M:%S')\n",
    "    \n",
    "    # استبدال أي قيم NaT (التي فشل تحويلها) بقيمة NULL لـ Hive\n",
    "    #df_pat[col] = df_pat[col].replace({'NaT': None, '': None})"
   ]
  },
  {
   "cell_type": "code",
   "execution_count": 82,
   "id": "0ed60821",
   "metadata": {},
   "outputs": [
    {
     "data": {
      "text/html": [
       "<div>\n",
       "<style scoped>\n",
       "    .dataframe tbody tr th:only-of-type {\n",
       "        vertical-align: middle;\n",
       "    }\n",
       "\n",
       "    .dataframe tbody tr th {\n",
       "        vertical-align: top;\n",
       "    }\n",
       "\n",
       "    .dataframe thead th {\n",
       "        text-align: right;\n",
       "    }\n",
       "</style>\n",
       "<table border=\"1\" class=\"dataframe\">\n",
       "  <thead>\n",
       "    <tr style=\"text-align: right;\">\n",
       "      <th></th>\n",
       "      <th>dob</th>\n",
       "      <th>dod</th>\n",
       "      <th>dod_hosp</th>\n",
       "      <th>dod_ssn</th>\n",
       "    </tr>\n",
       "  </thead>\n",
       "  <tbody>\n",
       "    <tr>\n",
       "      <th>0</th>\n",
       "      <td>2094-03-05</td>\n",
       "      <td>2165-08-12</td>\n",
       "      <td>2165-08-12</td>\n",
       "      <td>2165-08-12</td>\n",
       "    </tr>\n",
       "    <tr>\n",
       "      <th>1</th>\n",
       "      <td>2090-06-05</td>\n",
       "      <td>2126-08-28</td>\n",
       "      <td>2126-08-28</td>\n",
       "      <td>NaT</td>\n",
       "    </tr>\n",
       "    <tr>\n",
       "      <th>2</th>\n",
       "      <td>2038-09-03</td>\n",
       "      <td>2125-10-07</td>\n",
       "      <td>2125-10-07</td>\n",
       "      <td>2125-10-07</td>\n",
       "    </tr>\n",
       "    <tr>\n",
       "      <th>3</th>\n",
       "      <td>2075-09-21</td>\n",
       "      <td>2152-09-12</td>\n",
       "      <td>NaT</td>\n",
       "      <td>2152-09-12</td>\n",
       "    </tr>\n",
       "    <tr>\n",
       "      <th>4</th>\n",
       "      <td>2114-06-20</td>\n",
       "      <td>2163-05-15</td>\n",
       "      <td>2163-05-15</td>\n",
       "      <td>2163-05-15</td>\n",
       "    </tr>\n",
       "  </tbody>\n",
       "</table>\n",
       "</div>"
      ],
      "text/plain": [
       "         dob        dod   dod_hosp    dod_ssn\n",
       "0 2094-03-05 2165-08-12 2165-08-12 2165-08-12\n",
       "1 2090-06-05 2126-08-28 2126-08-28        NaT\n",
       "2 2038-09-03 2125-10-07 2125-10-07 2125-10-07\n",
       "3 2075-09-21 2152-09-12        NaT 2152-09-12\n",
       "4 2114-06-20 2163-05-15 2163-05-15 2163-05-15"
      ]
     },
     "execution_count": 82,
     "metadata": {},
     "output_type": "execute_result"
    }
   ],
   "source": [
    "df_pat[datetime_cols].head()\n"
   ]
  },
  {
   "cell_type": "code",
   "execution_count": 97,
   "id": "714382b9",
   "metadata": {},
   "outputs": [
    {
     "data": {
      "text/plain": [
       "row_id                  int64\n",
       "subject_id              int64\n",
       "gender               category\n",
       "dob            datetime64[ns]\n",
       "dod            datetime64[ns]\n",
       "dod_hosp       datetime64[ns]\n",
       "dod_ssn        datetime64[ns]\n",
       "expire_flag              bool\n",
       "is_deceased              bool\n",
       "dtype: object"
      ]
     },
     "execution_count": 97,
     "metadata": {},
     "output_type": "execute_result"
    }
   ],
   "source": [
    "df_pat.dtypes"
   ]
  },
  {
   "cell_type": "code",
   "execution_count": 98,
   "id": "fcad8d14",
   "metadata": {},
   "outputs": [],
   "source": [
    "df_pat.to_csv('D:/ITI Data engineering intensive camp/Big data/Project/Cleaned_data/Patients.csv', index=False)\n"
   ]
  },
  {
   "cell_type": "code",
   "execution_count": 99,
   "id": "269406e1",
   "metadata": {},
   "outputs": [],
   "source": [
    "df_pat.to_parquet('D:/ITI Data engineering intensive camp/Big data/Project/Cleaned_data/PATIENTS.parquet', index=False)\n"
   ]
  }
 ],
 "metadata": {
  "kernelspec": {
   "display_name": "Python 3",
   "language": "python",
   "name": "python3"
  },
  "language_info": {
   "codemirror_mode": {
    "name": "ipython",
    "version": 3
   },
   "file_extension": ".py",
   "mimetype": "text/x-python",
   "name": "python",
   "nbconvert_exporter": "python",
   "pygments_lexer": "ipython3",
   "version": "3.13.2"
  }
 },
 "nbformat": 4,
 "nbformat_minor": 5
}
