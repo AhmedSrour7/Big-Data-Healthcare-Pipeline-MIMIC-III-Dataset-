{
 "cells": [
  {
   "cell_type": "code",
   "execution_count": 1,
   "id": "b4fc562f",
   "metadata": {},
   "outputs": [],
   "source": [
    "import pandas as pd\n",
    "import numpy as np\n",
    "import pyarrow as pa\n",
    "import pyarrow.parquet as pq\n",
    "from pyarrow import csv"
   ]
  },
  {
   "cell_type": "code",
   "execution_count": 2,
   "id": "85d3d68c",
   "metadata": {},
   "outputs": [],
   "source": [
    "df = pd.read_csv(\"D:\\\\ITI_dataEng\\\\bigdata\\\\project\\\\mimic-iii-clinical-database-demo-1.4\\\\DIAGNOSES_ICD.csv\")"
   ]
  },
  {
   "cell_type": "code",
   "execution_count": 3,
   "id": "ab5b77c1",
   "metadata": {},
   "outputs": [
    {
     "name": "stdout",
     "output_type": "stream",
     "text": [
      "<class 'pandas.core.frame.DataFrame'>\n",
      "RangeIndex: 1761 entries, 0 to 1760\n",
      "Data columns (total 5 columns):\n",
      " #   Column      Non-Null Count  Dtype \n",
      "---  ------      --------------  ----- \n",
      " 0   row_id      1761 non-null   int64 \n",
      " 1   subject_id  1761 non-null   int64 \n",
      " 2   hadm_id     1761 non-null   int64 \n",
      " 3   seq_num     1761 non-null   int64 \n",
      " 4   icd9_code   1761 non-null   object\n",
      "dtypes: int64(4), object(1)\n",
      "memory usage: 68.9+ KB\n"
     ]
    }
   ],
   "source": [
    "df.info()"
   ]
  },
  {
   "cell_type": "code",
   "execution_count": 4,
   "id": "188ec4c9",
   "metadata": {},
   "outputs": [
    {
     "data": {
      "text/plain": [
       "icd9_code\n",
       "4019     53\n",
       "42731    48\n",
       "5849     45\n",
       "4280     39\n",
       "25000    31\n",
       "         ..\n",
       "8730      1\n",
       "3361      1\n",
       "E8231     1\n",
       "34401     1\n",
       "45182     1\n",
       "Name: count, Length: 581, dtype: int64"
      ]
     },
     "execution_count": 4,
     "metadata": {},
     "output_type": "execute_result"
    }
   ],
   "source": [
    "df['icd9_code'].value_counts()"
   ]
  },
  {
   "cell_type": "code",
   "execution_count": 9,
   "id": "fb84de1c",
   "metadata": {},
   "outputs": [
    {
     "name": "stdout",
     "output_type": "stream",
     "text": [
      "<class 'pandas.core.frame.DataFrame'>\n",
      "RangeIndex: 1761 entries, 0 to 1760\n",
      "Data columns (total 5 columns):\n",
      " #   Column      Non-Null Count  Dtype \n",
      "---  ------      --------------  ----- \n",
      " 0   row_id      1761 non-null   int64 \n",
      " 1   subject_id  1761 non-null   int64 \n",
      " 2   hadm_id     1761 non-null   int64 \n",
      " 3   seq_num     1761 non-null   int64 \n",
      " 4   icd9_code   1761 non-null   object\n",
      "dtypes: int64(4), object(1)\n",
      "memory usage: 68.9+ KB\n"
     ]
    }
   ],
   "source": [
    "df.info()"
   ]
  },
  {
   "cell_type": "code",
   "execution_count": 14,
   "id": "3455ac22",
   "metadata": {},
   "outputs": [],
   "source": [
    "df.to_parquet(\"D:\\\\ITI_dataEng\\\\bigdata\\\\project\\\\mimic_cleaned\\\\diagnoses_icd.parquet\",engine= 'pyarrow',index=False )\n",
    "df.to_string(\"D:\\\\ITI_dataEng\\\\bigdata\\\\project\\\\mimic_cleaned\\\\diagnoses_ic.txt\")"
   ]
  },
  {
   "cell_type": "code",
   "execution_count": null,
   "id": "dc305ea3",
   "metadata": {},
   "outputs": [],
   "source": [
    "\n",
    "# Step 1: Read with explicit dtype conversion\n",
    "table = pq.read_table('diagnoses_icd.parquet')\n",
    "schema = pa.schema([\n",
    "    pa.field('row_id', pa.int64()),\n",
    "    pa.field('subject_id', pa.int64()),\n",
    "     pa.field('hadm_id', pa.int64()), \n",
    "     pa.field('seq_num', pa.int64()),\n",
    "     pa.field('icd9_code', pa.string())\n",
    "  \n",
    "])\n",
    "\n",
    "# Step 2: Write with Spark-compatible settings\n",
    "pq.write_table(\n",
    "    table.cast(schema),\n",
    "    'patients_fully_fixed.parquet',\n",
    "    version='2.6',\n",
    "    use_dictionary=True,\n",
    "    compression='SNAPPY',\n",
    "    \n",
    ")"
   ]
  }
 ],
 "metadata": {
  "kernelspec": {
   "display_name": "base",
   "language": "python",
   "name": "python3"
  },
  "language_info": {
   "codemirror_mode": {
    "name": "ipython",
    "version": 3
   },
   "file_extension": ".py",
   "mimetype": "text/x-python",
   "name": "python",
   "nbconvert_exporter": "python",
   "pygments_lexer": "ipython3",
   "version": "3.12.7"
  }
 },
 "nbformat": 4,
 "nbformat_minor": 5
}
